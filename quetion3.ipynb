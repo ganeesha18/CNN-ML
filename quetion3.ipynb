{
 "cells": [
  {
   "cell_type": "code",
   "execution_count": 24,
   "metadata": {},
   "outputs": [],
   "source": [
    "import keras\n",
    "from matplotlib import pyplot as plt\n",
    "import numpy as np\n",
    "import gzip\n",
    "%matplotlib inline\n",
    "from keras.models import Model\n",
    "from keras.optimizers import RMSprop\n",
    "from keras.layers import Input,Dense,Flatten,Dropout,merge,Reshape,Conv2D,MaxPooling2D,UpSampling2D,Conv2DTranspose\n",
    "from keras.layers.normalization import BatchNormalization\n",
    "from keras.models import Model,Sequential\n",
    "from keras.callbacks import ModelCheckpoint\n",
    "from keras.optimizers import Adadelta, RMSprop,SGD,Adam\n",
    "from keras import regularizers\n",
    "from keras import backend as K\n",
    "from keras.utils import to_categorical\n",
    "from keras.layers import Input, Dense, Conv2D, MaxPooling2D, UpSampling2D\n"
   ]
  },
  {
   "cell_type": "code",
   "execution_count": 25,
   "metadata": {},
   "outputs": [],
   "source": [
    "\n",
    "# load data\n",
    "(X_train, y_train), (X_test, y_test) = mnist.load_data()\n",
    "# reshape to be [samples][width][height][channels]\n",
    "X_train = X_train.reshape((X_train.shape[0], 28, 28, 1)).astype('float32')\n",
    "X_test = X_test.reshape((X_test.shape[0], 28, 28, 1)).astype('float32')\n",
    "# normalize inputs from 0-255 to 0-1\n",
    "X_train = X_train / 255\n",
    "X_test = X_test / 255\n",
    "# one hot encode outputs\n",
    "y_train = np_utils.to_categorical(y_train)\n",
    "y_test = np_utils.to_categorical(y_test)"
   ]
  },
  {
   "cell_type": "code",
   "execution_count": null,
   "metadata": {},
   "outputs": [],
   "source": [
    "noice_factor = 0.25\n",
    "X_train_noisy=X_train + noice_factor*np.random.normal(loc=0.0, scale = 1.0, size=X_train.shape)\n",
    "X_test_noisy=X_test + noice_factor*np.random.normal(loc=0.0, scale = 1.0, size=X_test.shape)\n",
    "\n",
    "X_train_noisy = np.clip(X_train_noisy,0.,1.)\n",
    "X_test_noisy = np.clip(X_test_noisy,0.,1.) "
   ]
  },
  {
   "cell_type": "code",
   "execution_count": 27,
   "metadata": {},
   "outputs": [],
   "source": [
    "def encoder(input_img):\n",
    "    #encoder\n",
    "    #input = 28 x 28 x 1 (wide and thin)\n",
    "    conv1 = Conv2D(32, (3, 3), activation='relu', padding='same')(input_img) #28 x 28 x 32\n",
    "    conv1 = BatchNormalization()(conv1)\n",
    "    conv1 = Conv2D(32, (3, 3), activation='relu', padding='same')(conv1)\n",
    "    conv1 = BatchNormalization()(conv1)\n",
    "    pool1 = MaxPooling2D(pool_size=(2, 2))(conv1) #14 x 14 x 32\n",
    "    conv2 = Conv2D(64, (3, 3), activation='relu', padding='same')(pool1) #14 x 14 x 64\n",
    "    conv2 = BatchNormalization()(conv2)\n",
    "    conv2 = Conv2D(64, (3, 3), activation='relu', padding='same')(conv2)\n",
    "    conv2 = BatchNormalization()(conv2)\n",
    "    pool2 = MaxPooling2D(pool_size=(2, 2))(conv2) #7 x 7 x 64\n",
    "    conv3 = Conv2D(128, (3, 3), activation='relu', padding='same')(pool2) #7 x 7 x 128 (small and thick)\n",
    "    conv3 = BatchNormalization()(conv3)\n",
    "    conv3 = Conv2D(128, (3, 3), activation='relu', padding='same')(conv3)\n",
    "    conv3 = BatchNormalization()(conv3)\n",
    "    conv4 = Conv2D(256, (3, 3), activation='relu', padding='same')(conv3) #7 x 7 x 256 (small and thick)\n",
    "    conv4 = BatchNormalization()(conv4)\n",
    "    conv4 = Conv2D(256, (3, 3), activation='relu', padding='same')(conv4)\n",
    "    conv4 = BatchNormalization()(conv4)\n",
    "    return conv4\n",
    "\n",
    "def decoder(conv4):    \n",
    "    #decoder\n",
    "    conv5 = Conv2D(128, (3, 3), activation='relu', padding='same')(conv4) #7 x 7 x 128\n",
    "    conv5 = BatchNormalization()(conv5)\n",
    "    conv5 = Conv2D(128, (3, 3), activation='relu', padding='same')(conv5)\n",
    "    conv5 = BatchNormalization()(conv5)\n",
    "    conv6 = Conv2D(64, (3, 3), activation='relu', padding='same')(conv5) #7 x 7 x 64\n",
    "    conv6 = BatchNormalization()(conv6)\n",
    "    conv6 = Conv2D(64, (3, 3), activation='relu', padding='same')(conv6)\n",
    "    conv6 = BatchNormalization()(conv6)\n",
    "    up1 = UpSampling2D((2,2))(conv6) #14 x 14 x 64\n",
    "    conv7 = Conv2D(32, (3, 3), activation='relu', padding='same')(up1) # 14 x 14 x 32\n",
    "    conv7 = BatchNormalization()(conv7)\n",
    "    conv7 = Conv2D(32, (3, 3), activation='relu', padding='same')(conv7)\n",
    "    conv7 = BatchNormalization()(conv7)\n",
    "    up2 = UpSampling2D((2,2))(conv7) # 28 x 28 x 32\n",
    "    decoded = Conv2D(1, (3, 3), activation='sigmoid', padding='same')(up2) # 28 x 28 x 1\n",
    "    return decoded"
   ]
  },
  {
   "cell_type": "code",
   "execution_count": 28,
   "metadata": {},
   "outputs": [],
   "source": [
    "input_img = Input(shape=(28, 28, 1)) # adapt this if using `channels_first` image data format\n"
   ]
  },
  {
   "cell_type": "code",
   "execution_count": 29,
   "metadata": {},
   "outputs": [],
   "source": [
    "autoencoder = Model(input_img, decoder(encoder(input_img)))\n",
    "autoencoder.compile(loss='mean_squared_error', optimizer = RMSprop())\n",
    "\n"
   ]
  },
  {
   "cell_type": "code",
   "execution_count": 30,
   "metadata": {},
   "outputs": [
    {
     "name": "stdout",
     "output_type": "stream",
     "text": [
      "Train on 48000 samples, validate on 12000 samples\n",
      "Epoch 1/20\n",
      "48000/48000 [==============================] - 1428s 30ms/step - loss: 0.0452 - val_loss: 0.0931\n",
      "Epoch 2/20\n",
      "48000/48000 [==============================] - 1363s 28ms/step - loss: 0.0115 - val_loss: 0.0280\n",
      "Epoch 3/20\n",
      "48000/48000 [==============================] - 1358s 28ms/step - loss: 0.0078 - val_loss: 0.0117\n",
      "Epoch 4/20\n",
      "48000/48000 [==============================] - 1355s 28ms/step - loss: 0.0060 - val_loss: 0.0103\n",
      "Epoch 5/20\n",
      "48000/48000 [==============================] - 1355s 28ms/step - loss: 0.0053 - val_loss: 0.0089\n",
      "Epoch 6/20\n",
      "48000/48000 [==============================] - 1355s 28ms/step - loss: 0.0043 - val_loss: 0.0054\n",
      "Epoch 7/20\n",
      "48000/48000 [==============================] - 1355s 28ms/step - loss: 0.0039 - val_loss: 0.0069\n",
      "Epoch 8/20\n",
      "48000/48000 [==============================] - 1351s 28ms/step - loss: 0.0039 - val_loss: 0.0078\n",
      "Epoch 9/20\n",
      "48000/48000 [==============================] - 1353s 28ms/step - loss: 0.0035 - val_loss: 0.0039\n",
      "Epoch 10/20\n",
      "48000/48000 [==============================] - 1349s 28ms/step - loss: 0.0031 - val_loss: 0.0043\n",
      "Epoch 11/20\n",
      "48000/48000 [==============================] - 1556s 32ms/step - loss: 0.0029 - val_loss: 0.0063\n",
      "Epoch 12/20\n",
      "48000/48000 [==============================] - 1552s 32ms/step - loss: 0.0028 - val_loss: 0.0037\n",
      "Epoch 13/20\n",
      "48000/48000 [==============================] - 1880s 39ms/step - loss: 0.0026 - val_loss: 0.0040\n",
      "Epoch 14/20\n",
      "48000/48000 [==============================] - 2855s 59ms/step - loss: 0.0025 - val_loss: 0.0029\n",
      "Epoch 15/20\n",
      "48000/48000 [==============================] - 2334s 49ms/step - loss: 0.0023 - val_loss: 0.0028\n",
      "Epoch 16/20\n",
      "48000/48000 [==============================] - 2536s 53ms/step - loss: 0.0022 - val_loss: 0.0039\n",
      "Epoch 17/20\n",
      "48000/48000 [==============================] - 2522s 53ms/step - loss: 0.0022 - val_loss: 0.0023\n",
      "Epoch 18/20\n",
      "48000/48000 [==============================] - 2499s 52ms/step - loss: 0.0021 - val_loss: 0.0027\n",
      "Epoch 19/20\n",
      "48000/48000 [==============================] - 2496s 52ms/step - loss: 0.0020 - val_loss: 0.0023\n",
      "Epoch 20/20\n",
      "48000/48000 [==============================] - 2009s 42ms/step - loss: 0.0019 - val_loss: 0.0033\n"
     ]
    }
   ],
   "source": [
    "batch_size = 256\n",
    "epochs = 20\n",
    "num_classes = 10\n",
    "num_classes = 10\n",
    "autoencoder_train = autoencoder.fit(X_train, X_train, batch_size=batch_size,epochs=epochs,verbose=1,validation_split=0.2)\n"
   ]
  },
  {
   "cell_type": "code",
   "execution_count": 31,
   "metadata": {},
   "outputs": [],
   "source": [
    "autoencoder.save_weights('autoencoder.h5')"
   ]
  },
  {
   "cell_type": "code",
   "execution_count": null,
   "metadata": {},
   "outputs": [],
   "source": [
    "def encoder(input_img):\n",
    "    #encoder\n",
    "    #input = 28 x 28 x 1 (wide and thin)\n",
    "    conv1 = Conv2D(32, (3, 3), activation='relu', padding='same')(input_img) #28 x 28 x 32\n",
    "    conv1 = BatchNormalization()(conv1)\n",
    "    conv1 = Conv2D(32, (3, 3), activation='relu', padding='same')(conv1)\n",
    "    conv1 = BatchNormalization()(conv1)\n",
    "    pool1 = MaxPooling2D(pool_size=(2, 2))(conv1) #14 x 14 x 32\n",
    "    conv2 = Conv2D(64, (3, 3), activation='relu', padding='same')(pool1) #14 x 14 x 64\n",
    "    conv2 = BatchNormalization()(conv2)\n",
    "    conv2 = Conv2D(64, (3, 3), activation='relu', padding='same')(conv2)\n",
    "    conv2 = BatchNormalization()(conv2)\n",
    "    pool2 = MaxPooling2D(pool_size=(2, 2))(conv2) #7 x 7 x 64\n",
    "    conv3 = Conv2D(128, (3, 3), activation='relu', padding='same')(pool2) #7 x 7 x 128 (small and thick)\n",
    "    conv3 = BatchNormalization()(conv3)\n",
    "    conv3 = Conv2D(128, (3, 3), activation='relu', padding='same')(conv3)\n",
    "    conv3 = BatchNormalization()(conv3)\n",
    "    conv4 = Conv2D(256, (3, 3), activation='relu', padding='same')(conv3) #7 x 7 x 256 (small and thick)\n",
    "    conv4 = BatchNormalization()(conv4)\n",
    "    conv4 = Conv2D(256, (3, 3), activation='relu', padding='same')(conv4)\n",
    "    conv4 = BatchNormalization()(conv4)\n",
    "    return conv4"
   ]
  },
  {
   "cell_type": "code",
   "execution_count": 32,
   "metadata": {},
   "outputs": [],
   "source": [
    "def fc(enco):\n",
    "    flat = Flatten()(enco)\n",
    "    den = Dense(128, activation='relu')(flat)\n",
    "    out = Dense(num_classes, activation='softmax')(den)\n",
    "    return out"
   ]
  },
  {
   "cell_type": "code",
   "execution_count": 33,
   "metadata": {},
   "outputs": [],
   "source": [
    "encode = encoder(input_img)\n",
    "full_model = Model(input_img,fc(encode))"
   ]
  },
  {
   "cell_type": "code",
   "execution_count": 34,
   "metadata": {},
   "outputs": [],
   "source": [
    "for l1,l2 in zip(full_model.layers[:19],autoencoder.layers[0:19]):\n",
    "    l1.set_weights(l2.get_weights())"
   ]
  },
  {
   "cell_type": "code",
   "execution_count": 35,
   "metadata": {},
   "outputs": [
    {
     "data": {
      "text/plain": [
       "array([[[-0.05301833, -0.08680589, -0.04712144,  0.07145554,\n",
       "         -0.10235564, -0.08324461, -0.13894498, -0.06301942,\n",
       "          0.26667145,  0.10945209,  0.0692582 ,  0.02815737,\n",
       "          0.0723436 ,  0.15690902,  0.03885353, -0.1098024 ,\n",
       "         -0.08918798, -0.03242141,  0.12599508, -0.0694134 ,\n",
       "         -0.10891053,  0.16022669, -0.04781778,  0.09204494,\n",
       "         -0.00841981,  0.03943402,  0.19969167,  0.02316775,\n",
       "          0.14534354,  0.14067161, -0.1445331 , -0.05335287]],\n",
       "\n",
       "       [[-0.06529143,  0.17082874,  0.17614987, -0.1258524 ,\n",
       "          0.04892865, -0.02754449,  0.14003503,  0.06514513,\n",
       "          0.08252808,  0.09015143, -0.08478993,  0.11053484,\n",
       "          0.16429533, -0.09054474,  0.10749266, -0.10537624,\n",
       "          0.10115259,  0.10078125, -0.11886736,  0.11791065,\n",
       "         -0.03131124, -0.06315941, -0.03551893,  0.17250095,\n",
       "         -0.16974673,  0.10880461, -0.04369926, -0.09053458,\n",
       "         -0.13812774, -0.00029842, -0.07086257,  0.0274252 ]],\n",
       "\n",
       "       [[ 0.05600464,  0.0894598 ,  0.11402923, -0.1297438 ,\n",
       "          0.10815211,  0.12249148,  0.06279001,  0.06600357,\n",
       "         -0.06636107,  0.11927666, -0.15134591,  0.00845772,\n",
       "         -0.04669799,  0.10200732, -0.08244641, -0.11079678,\n",
       "          0.01794111,  0.1553032 , -0.13377674,  0.01697764,\n",
       "         -0.01751712, -0.14004664,  0.12112025, -0.01956706,\n",
       "          0.09682206, -0.03772401, -0.04790128, -0.12334625,\n",
       "         -0.00409513,  0.15836108, -0.11754483,  0.1671001 ]]],\n",
       "      dtype=float32)"
      ]
     },
     "execution_count": 35,
     "metadata": {},
     "output_type": "execute_result"
    }
   ],
   "source": [
    "autoencoder.get_weights()[0][1]"
   ]
  },
  {
   "cell_type": "code",
   "execution_count": 36,
   "metadata": {},
   "outputs": [
    {
     "data": {
      "text/plain": [
       "array([[[-0.05301833, -0.08680589, -0.04712144,  0.07145554,\n",
       "         -0.10235564, -0.08324461, -0.13894498, -0.06301942,\n",
       "          0.26667145,  0.10945209,  0.0692582 ,  0.02815737,\n",
       "          0.0723436 ,  0.15690902,  0.03885353, -0.1098024 ,\n",
       "         -0.08918798, -0.03242141,  0.12599508, -0.0694134 ,\n",
       "         -0.10891053,  0.16022669, -0.04781778,  0.09204494,\n",
       "         -0.00841981,  0.03943402,  0.19969167,  0.02316775,\n",
       "          0.14534354,  0.14067161, -0.1445331 , -0.05335287]],\n",
       "\n",
       "       [[-0.06529143,  0.17082874,  0.17614987, -0.1258524 ,\n",
       "          0.04892865, -0.02754449,  0.14003503,  0.06514513,\n",
       "          0.08252808,  0.09015143, -0.08478993,  0.11053484,\n",
       "          0.16429533, -0.09054474,  0.10749266, -0.10537624,\n",
       "          0.10115259,  0.10078125, -0.11886736,  0.11791065,\n",
       "         -0.03131124, -0.06315941, -0.03551893,  0.17250095,\n",
       "         -0.16974673,  0.10880461, -0.04369926, -0.09053458,\n",
       "         -0.13812774, -0.00029842, -0.07086257,  0.0274252 ]],\n",
       "\n",
       "       [[ 0.05600464,  0.0894598 ,  0.11402923, -0.1297438 ,\n",
       "          0.10815211,  0.12249148,  0.06279001,  0.06600357,\n",
       "         -0.06636107,  0.11927666, -0.15134591,  0.00845772,\n",
       "         -0.04669799,  0.10200732, -0.08244641, -0.11079678,\n",
       "          0.01794111,  0.1553032 , -0.13377674,  0.01697764,\n",
       "         -0.01751712, -0.14004664,  0.12112025, -0.01956706,\n",
       "          0.09682206, -0.03772401, -0.04790128, -0.12334625,\n",
       "         -0.00409513,  0.15836108, -0.11754483,  0.1671001 ]]],\n",
       "      dtype=float32)"
      ]
     },
     "execution_count": 36,
     "metadata": {},
     "output_type": "execute_result"
    }
   ],
   "source": [
    "full_model.get_weights()[0][1]"
   ]
  },
  {
   "cell_type": "code",
   "execution_count": 37,
   "metadata": {},
   "outputs": [],
   "source": [
    "for layer in full_model.layers[0:19]:\n",
    "    layer.trainable = False"
   ]
  },
  {
   "cell_type": "code",
   "execution_count": 38,
   "metadata": {},
   "outputs": [],
   "source": [
    "full_model.compile(loss=keras.losses.categorical_crossentropy, optimizer=keras.optimizers.Adam(),metrics=['accuracy'])\n"
   ]
  },
  {
   "cell_type": "code",
   "execution_count": 39,
   "metadata": {},
   "outputs": [
    {
     "name": "stdout",
     "output_type": "stream",
     "text": [
      "Model: \"model_4\"\n",
      "_________________________________________________________________\n",
      "Layer (type)                 Output Shape              Param #   \n",
      "=================================================================\n",
      "input_3 (InputLayer)         (None, 28, 28, 1)         0         \n",
      "_________________________________________________________________\n",
      "conv2d_46 (Conv2D)           (None, 28, 28, 32)        320       \n",
      "_________________________________________________________________\n",
      "batch_normalization_29 (Batc (None, 28, 28, 32)        128       \n",
      "_________________________________________________________________\n",
      "conv2d_47 (Conv2D)           (None, 28, 28, 32)        9248      \n",
      "_________________________________________________________________\n",
      "batch_normalization_30 (Batc (None, 28, 28, 32)        128       \n",
      "_________________________________________________________________\n",
      "max_pooling2d_11 (MaxPooling (None, 14, 14, 32)        0         \n",
      "_________________________________________________________________\n",
      "conv2d_48 (Conv2D)           (None, 14, 14, 64)        18496     \n",
      "_________________________________________________________________\n",
      "batch_normalization_31 (Batc (None, 14, 14, 64)        256       \n",
      "_________________________________________________________________\n",
      "conv2d_49 (Conv2D)           (None, 14, 14, 64)        36928     \n",
      "_________________________________________________________________\n",
      "batch_normalization_32 (Batc (None, 14, 14, 64)        256       \n",
      "_________________________________________________________________\n",
      "max_pooling2d_12 (MaxPooling (None, 7, 7, 64)          0         \n",
      "_________________________________________________________________\n",
      "conv2d_50 (Conv2D)           (None, 7, 7, 128)         73856     \n",
      "_________________________________________________________________\n",
      "batch_normalization_33 (Batc (None, 7, 7, 128)         512       \n",
      "_________________________________________________________________\n",
      "conv2d_51 (Conv2D)           (None, 7, 7, 128)         147584    \n",
      "_________________________________________________________________\n",
      "batch_normalization_34 (Batc (None, 7, 7, 128)         512       \n",
      "_________________________________________________________________\n",
      "conv2d_52 (Conv2D)           (None, 7, 7, 256)         295168    \n",
      "_________________________________________________________________\n",
      "batch_normalization_35 (Batc (None, 7, 7, 256)         1024      \n",
      "_________________________________________________________________\n",
      "conv2d_53 (Conv2D)           (None, 7, 7, 256)         590080    \n",
      "_________________________________________________________________\n",
      "batch_normalization_36 (Batc (None, 7, 7, 256)         1024      \n",
      "_________________________________________________________________\n",
      "flatten_1 (Flatten)          (None, 12544)             0         \n",
      "_________________________________________________________________\n",
      "dense_1 (Dense)              (None, 128)               1605760   \n",
      "_________________________________________________________________\n",
      "dense_2 (Dense)              (None, 10)                1290      \n",
      "=================================================================\n",
      "Total params: 2,782,570\n",
      "Trainable params: 1,607,050\n",
      "Non-trainable params: 1,175,520\n",
      "_________________________________________________________________\n"
     ]
    }
   ],
   "source": [
    "full_model.summary()"
   ]
  },
  {
   "cell_type": "code",
   "execution_count": null,
   "metadata": {},
   "outputs": [
    {
     "name": "stdout",
     "output_type": "stream",
     "text": [
      "Train on 48000 samples, validate on 12000 samples\n",
      "Epoch 1/20\n",
      "48000/48000 [==============================] - 244s 5ms/step - loss: 0.1331 - accuracy: 0.9592 - val_loss: 0.1111 - val_accuracy: 0.9684\n",
      "Epoch 2/20\n",
      "48000/48000 [==============================] - 261s 5ms/step - loss: 0.0410 - accuracy: 0.9875 - val_loss: 0.1001 - val_accuracy: 0.9725\n",
      "Epoch 3/20\n",
      "48000/48000 [==============================] - 266s 6ms/step - loss: 0.0164 - accuracy: 0.9955 - val_loss: 0.0996 - val_accuracy: 0.9732\n",
      "Epoch 4/20\n",
      "48000/48000 [==============================] - 267s 6ms/step - loss: 0.0059 - accuracy: 0.9990 - val_loss: 0.0924 - val_accuracy: 0.9757\n",
      "Epoch 5/20\n",
      "48000/48000 [==============================] - 288s 6ms/step - loss: 0.0023 - accuracy: 0.9999 - val_loss: 0.0925 - val_accuracy: 0.9772\n",
      "Epoch 6/20\n",
      "48000/48000 [==============================] - 288s 6ms/step - loss: 8.2462e-04 - accuracy: 1.0000 - val_loss: 0.0911 - val_accuracy: 0.9784\n",
      "Epoch 7/20\n",
      "48000/48000 [==============================] - 295s 6ms/step - loss: 5.1865e-04 - accuracy: 1.0000 - val_loss: 0.0915 - val_accuracy: 0.9788\n",
      "Epoch 8/20\n",
      "48000/48000 [==============================] - 291s 6ms/step - loss: 3.9699e-04 - accuracy: 1.0000 - val_loss: 0.0922 - val_accuracy: 0.9784\n",
      "Epoch 9/20\n",
      "48000/48000 [==============================] - 295s 6ms/step - loss: 3.2075e-04 - accuracy: 1.0000 - val_loss: 0.0931 - val_accuracy: 0.9789\n",
      "Epoch 10/20\n",
      "48000/48000 [==============================] - 291s 6ms/step - loss: 2.6523e-04 - accuracy: 1.0000 - val_loss: 0.0927 - val_accuracy: 0.9793\n",
      "Epoch 11/20\n",
      "48000/48000 [==============================] - 299s 6ms/step - loss: 2.2464e-04 - accuracy: 1.0000 - val_loss: 0.0937 - val_accuracy: 0.9789\n",
      "Epoch 12/20\n",
      "11776/48000 [======>.......................] - ETA: 3:05 - loss: 1.9396e-04 - accuracy: 1.0000"
     ]
    }
   ],
   "source": [
    "classify_train = full_model.fit(X_train, y_train, batch_size=batch_size,epochs=epochs,verbose=1,validation_split=0.2)\n"
   ]
  },
  {
   "cell_type": "code",
   "execution_count": null,
   "metadata": {},
   "outputs": [],
   "source": [
    "full_model.save_weights('autoencoder_classification.h5')"
   ]
  },
  {
   "cell_type": "code",
   "execution_count": null,
   "metadata": {},
   "outputs": [],
   "source": [
    "for layer in full_model.layers[0:19]:\n",
    "    layer.trainable = True"
   ]
  },
  {
   "cell_type": "code",
   "execution_count": null,
   "metadata": {},
   "outputs": [],
   "source": [
    "full_model.compile(loss=keras.losses.categorical_crossentropy, optimizer=keras.optimizers.Adam(),metrics=['accuracy'])\n"
   ]
  },
  {
   "cell_type": "code",
   "execution_count": null,
   "metadata": {},
   "outputs": [],
   "source": [
    "classify_train = full_model.fit(train_X, train_label, batch_size=64,epochs=100,verbose=1,validation_split=0.2)\n"
   ]
  },
  {
   "cell_type": "code",
   "execution_count": null,
   "metadata": {},
   "outputs": [],
   "source": [
    "full_model.save_weights('classification_complete.h5')"
   ]
  },
  {
   "cell_type": "code",
   "execution_count": null,
   "metadata": {},
   "outputs": [],
   "source": [
    "accuracy = classify_train.history['acc']\n",
    "val_accuracy = classify_train.history['val_acc']\n",
    "loss = classify_train.history['loss']\n",
    "val_loss = classify_train.history['val_loss']\n",
    "epochs = range(len(accuracy))\n",
    "plt.plot(epochs, accuracy, 'bo', label='Training accuracy')\n",
    "plt.plot(epochs, val_accuracy, 'b', label='Validation accuracy')\n",
    "plt.title('Training and validation accuracy')\n",
    "plt.legend()\n",
    "plt.figure()\n",
    "plt.plot(epochs, loss, 'bo', label='Training loss')\n",
    "plt.plot(epochs, val_loss, 'b', label='Validation loss')\n",
    "plt.title('Training and validation loss')\n",
    "plt.legend()\n",
    "plt.show()"
   ]
  },
  {
   "cell_type": "code",
   "execution_count": null,
   "metadata": {},
   "outputs": [],
   "source": [
    "test_eval = full_model.evaluate(X_test, Y_test, verbose=0)"
   ]
  },
  {
   "cell_type": "code",
   "execution_count": null,
   "metadata": {},
   "outputs": [],
   "source": [
    "print('Test loss:', test_eval[0])\n",
    "print('Test accuracy:', test_eval[1])"
   ]
  },
  {
   "cell_type": "code",
   "execution_count": null,
   "metadata": {},
   "outputs": [],
   "source": [
    "predicted_classes = full_model.predict(X_test)"
   ]
  },
  {
   "cell_type": "code",
   "execution_count": null,
   "metadata": {},
   "outputs": [],
   "source": [
    "predicted_classes = np.argmax(np.round(predicted_classes),axis=1)"
   ]
  },
  {
   "cell_type": "code",
   "execution_count": null,
   "metadata": {},
   "outputs": [],
   "source": [
    "predicted_classes.shape, test_labels.shape"
   ]
  },
  {
   "cell_type": "code",
   "execution_count": 9,
   "metadata": {},
   "outputs": [
    {
     "name": "stdout",
     "output_type": "stream",
     "text": [
      "WARNING:tensorflow:From C:\\Users\\USER\\Anaconda3\\lib\\site-packages\\tensorflow\\python\\ops\\math_ops.py:3066: to_int32 (from tensorflow.python.ops.math_ops) is deprecated and will be removed in a future version.\n",
      "Instructions for updating:\n",
      "Use tf.cast instead.\n",
      "Train on 54000 samples, validate on 6000 samples\n",
      "Epoch 1/50\n",
      "54000/54000 [==============================] - 124s 2ms/step - loss: 0.2296 - val_loss: 0.1820\n",
      "Epoch 2/50\n",
      "54000/54000 [==============================] - 123s 2ms/step - loss: 0.1687 - val_loss: 0.1569\n",
      "Epoch 3/50\n",
      "54000/54000 [==============================] - 122s 2ms/step - loss: 0.1514 - val_loss: 0.1466\n",
      "Epoch 4/50\n",
      "54000/54000 [==============================] - 122s 2ms/step - loss: 0.1416 - val_loss: 0.1373\n",
      "Epoch 5/50\n",
      "54000/54000 [==============================] - 123s 2ms/step - loss: 0.1345 - val_loss: 0.1293\n",
      "Epoch 6/50\n",
      "54000/54000 [==============================] - 123s 2ms/step - loss: 0.1292 - val_loss: 0.1260\n",
      "Epoch 7/50\n",
      "54000/54000 [==============================] - 124s 2ms/step - loss: 0.1258 - val_loss: 0.1243\n",
      "Epoch 8/50\n",
      "54000/54000 [==============================] - 123s 2ms/step - loss: 0.1229 - val_loss: 0.1208\n",
      "Epoch 9/50\n",
      "54000/54000 [==============================] - 124s 2ms/step - loss: 0.1210 - val_loss: 0.1217\n",
      "Epoch 10/50\n",
      "54000/54000 [==============================] - 124s 2ms/step - loss: 0.1190 - val_loss: 0.1184\n",
      "Epoch 11/50\n",
      "54000/54000 [==============================] - 124s 2ms/step - loss: 0.1177 - val_loss: 0.1171\n",
      "Epoch 12/50\n",
      "54000/54000 [==============================] - 125s 2ms/step - loss: 0.1165 - val_loss: 0.1161\n",
      "Epoch 13/50\n",
      "54000/54000 [==============================] - 124s 2ms/step - loss: 0.1154 - val_loss: 0.1169\n",
      "Epoch 14/50\n",
      "54000/54000 [==============================] - 123s 2ms/step - loss: 0.1144 - val_loss: 0.1140\n",
      "Epoch 15/50\n",
      "54000/54000 [==============================] - 123s 2ms/step - loss: 0.1136 - val_loss: 0.1152\n",
      "Epoch 16/50\n",
      "54000/54000 [==============================] - 84s 2ms/step - loss: 0.1128 - val_loss: 0.1126\n",
      "Epoch 17/50\n",
      "54000/54000 [==============================] - 88s 2ms/step - loss: 0.1120 - val_loss: 0.1100\n",
      "Epoch 18/50\n",
      "54000/54000 [==============================] - 88s 2ms/step - loss: 0.1115 - val_loss: 0.1124\n",
      "Epoch 19/50\n",
      "54000/54000 [==============================] - 89s 2ms/step - loss: 0.1110 - val_loss: 0.1123\n",
      "Epoch 20/50\n",
      "54000/54000 [==============================] - 90s 2ms/step - loss: 0.1102 - val_loss: 0.1121\n",
      "Epoch 21/50\n",
      "54000/54000 [==============================] - 90s 2ms/step - loss: 0.1099 - val_loss: 0.1081\n",
      "Epoch 22/50\n",
      "54000/54000 [==============================] - 91s 2ms/step - loss: 0.1097 - val_loss: 0.1091\n",
      "Epoch 23/50\n",
      "54000/54000 [==============================] - 91s 2ms/step - loss: 0.1090 - val_loss: 0.1113\n",
      "Epoch 24/50\n",
      "54000/54000 [==============================] - 91s 2ms/step - loss: 0.1087 - val_loss: 0.1086\n",
      "Epoch 25/50\n",
      "54000/54000 [==============================] - 91s 2ms/step - loss: 0.1086 - val_loss: 0.1068\n",
      "Epoch 26/50\n",
      "54000/54000 [==============================] - 92s 2ms/step - loss: 0.1081 - val_loss: 0.1072\n",
      "Epoch 27/50\n",
      "54000/54000 [==============================] - 92s 2ms/step - loss: 0.1078 - val_loss: 0.1093\n",
      "Epoch 28/50\n",
      "54000/54000 [==============================] - 91s 2ms/step - loss: 0.1073 - val_loss: 0.1062\n",
      "Epoch 29/50\n",
      "54000/54000 [==============================] - 450s 8ms/step - loss: 0.1070 - val_loss: 0.1069\n",
      "Epoch 30/50\n",
      "54000/54000 [==============================] - 90s 2ms/step - loss: 0.1068 - val_loss: 0.1073\n",
      "Epoch 31/50\n",
      "54000/54000 [==============================] - 95s 2ms/step - loss: 0.1064 - val_loss: 0.1064\n",
      "Epoch 32/50\n",
      "54000/54000 [==============================] - 99s 2ms/step - loss: 0.1064 - val_loss: 0.1079\n",
      "Epoch 33/50\n",
      "54000/54000 [==============================] - 95s 2ms/step - loss: 0.1063 - val_loss: 0.1053\n",
      "Epoch 34/50\n",
      "54000/54000 [==============================] - 99s 2ms/step - loss: 0.1058 - val_loss: 0.1059\n",
      "Epoch 35/50\n",
      "54000/54000 [==============================] - 94s 2ms/step - loss: 0.1056 - val_loss: 0.1080\n",
      "Epoch 36/50\n",
      "54000/54000 [==============================] - 94s 2ms/step - loss: 0.1053 - val_loss: 0.1042\n",
      "Epoch 37/50\n",
      "54000/54000 [==============================] - 94s 2ms/step - loss: 0.1049 - val_loss: 0.1062\n",
      "Epoch 38/50\n",
      "54000/54000 [==============================] - 94s 2ms/step - loss: 0.1047 - val_loss: 0.1042\n",
      "Epoch 39/50\n",
      "54000/54000 [==============================] - 94s 2ms/step - loss: 0.1043 - val_loss: 0.1035\n",
      "Epoch 40/50\n",
      "54000/54000 [==============================] - 94s 2ms/step - loss: 0.1042 - val_loss: 0.1068\n",
      "Epoch 41/50\n",
      "54000/54000 [==============================] - 95s 2ms/step - loss: 0.1041 - val_loss: 0.1046\n",
      "Epoch 42/50\n",
      "54000/54000 [==============================] - 94s 2ms/step - loss: 0.1039 - val_loss: 0.1067\n",
      "Epoch 43/50\n",
      "54000/54000 [==============================] - 94s 2ms/step - loss: 0.1037 - val_loss: 0.1037\n",
      "Epoch 44/50\n",
      "54000/54000 [==============================] - 94s 2ms/step - loss: 0.1034 - val_loss: 0.1069\n",
      "Epoch 45/50\n",
      "54000/54000 [==============================] - 94s 2ms/step - loss: 0.1033 - val_loss: 0.1043\n",
      "Epoch 46/50\n",
      "54000/54000 [==============================] - 95s 2ms/step - loss: 0.1033 - val_loss: 0.1033\n",
      "Epoch 47/50\n",
      "54000/54000 [==============================] - 94s 2ms/step - loss: 0.1031 - val_loss: 0.1020\n",
      "Epoch 48/50\n",
      "54000/54000 [==============================] - 94s 2ms/step - loss: 0.1027 - val_loss: 0.1042\n",
      "Epoch 49/50\n",
      "54000/54000 [==============================] - 94s 2ms/step - loss: 0.1029 - val_loss: 0.1046\n",
      "Epoch 50/50\n",
      "54000/54000 [==============================] - 94s 2ms/step - loss: 0.1027 - val_loss: 0.1046\n"
     ]
    },
    {
     "data": {
      "text/plain": [
       "<keras.callbacks.callbacks.History at 0x1e9c62a5c50>"
      ]
     },
     "execution_count": 9,
     "metadata": {},
     "output_type": "execute_result"
    }
   ],
   "source": [
    "autoencoder.fit(X_train, X_train, validation_split=0.1,\n",
    "                epochs=50,\n",
    "                batch_size=128,\n",
    "                shuffle=True\n",
    "                )"
   ]
  },
  {
   "cell_type": "code",
   "execution_count": 14,
   "metadata": {},
   "outputs": [
    {
     "name": "stdout",
     "output_type": "stream",
     "text": [
      "0.10329685904979706\n"
     ]
    }
   ],
   "source": [
    "scores = autoencoder.evaluate(X_test, X_test, verbose=0)\n",
    "print(scores)"
   ]
  },
  {
   "cell_type": "code",
   "execution_count": null,
   "metadata": {},
   "outputs": [],
   "source": [
    "noise_factor = 0.5\n",
    "X_train_noisy = X_train + noise_factor * np.random.normal(loc=0.0, scale=1.0, size=X_train.shape) \n",
    "X_test_noisy = X_test + noise_factor * np.random.normal(loc=0.0, scale=1.0, size=X_test.shape) \n",
    "\n",
    "X_train_noisy = np.clip(x_train_noisy, 0., 1.)\n",
    "X_test_noisy = np.clip(x_test_noisy, 0., 1.)"
   ]
  },
  {
   "cell_type": "code",
   "execution_count": null,
   "metadata": {},
   "outputs": [],
   "source": [
    "input_img = Input(shape=(28, 28, 1))  # adapt this if using `channels_first` image data format\n",
    "\n",
    "x = Conv2D(32, (3, 3), activation='relu', padding='same')(input_img)\n",
    "x = MaxPooling2D((2, 2), padding='same')(x)\n",
    "x = Conv2D(32, (3, 3), activation='relu', padding='same')(x)\n",
    "encoded = MaxPooling2D((2, 2), padding='same')(x)\n",
    "\n",
    "# at this point the representation is (7, 7, 32)\n",
    "\n",
    "x = Conv2D(32, (3, 3), activation='relu', padding='same')(encoded)\n",
    "x = UpSampling2D((2, 2))(x)\n",
    "x = Conv2D(32, (3, 3), activation='relu', padding='same')(x)\n",
    "x = UpSampling2D((2, 2))(x)\n",
    "decoded = Conv2D(1, (3, 3), activation='sigmoid', padding='same')(x)\n",
    "\n",
    "autoencoder = Model(input_img, decoded)\n",
    "autoencoder.compile(optimizer='adadelta', loss='binary_crossentropy')"
   ]
  },
  {
   "cell_type": "code",
   "execution_count": null,
   "metadata": {},
   "outputs": [],
   "source": [
    "autoencoder.fit(x_train_noisy, x_train,\n",
    "                epochs=100,\n",
    "                batch_size=128,\n",
    "                shuffle=True,\n",
    "                validation_data=(x_test_noisy, x_test),\n",
    "                callbacks=[TensorBoard(log_dir='/tmp/tb', histogram_freq=0, write_graph=False)])"
   ]
  }
 ],
 "metadata": {
  "kernelspec": {
   "display_name": "Python 3",
   "language": "python",
   "name": "python3"
  }
 },
 "nbformat": 4,
 "nbformat_minor": 2
}
